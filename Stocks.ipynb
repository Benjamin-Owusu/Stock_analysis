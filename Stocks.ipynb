{
 "cells": [
  {
   "cell_type": "markdown",
   "id": "8d01afbb-54ba-46c1-b4ac-7c5f7d70953d",
   "metadata": {
    "tags": []
   },
   "source": [
    "## Hypothesis test of log returns for selected US stocks\n",
    "In what follows below, we consider selected US stocks namely for Apple(AAPL), Microsoft (MSFT), Google (GOOGL), Tesla(TSLA) and Amazon(AMZN) using daily data over a 10 year period. Data is downloded from yfinance (available for free)\n",
    "\n",
    "Below scripts imports the relevant libraries and download the data"
   ]
  },
  {
   "cell_type": "code",
   "execution_count": null,
   "id": "0f4e79b8-babc-4124-bc89-770ac17a88fb",
   "metadata": {},
   "outputs": [],
   "source": [
    "import numpy as np\n",
    "import pandas as pd\n",
    "import yfinance as yf\n",
    "import matplotlib.pyplot as plt\n",
    "from scipy import stats"
   ]
  },
  {
   "cell_type": "code",
   "execution_count": 50,
   "id": "a15683d4-a26e-4038-95b0-229a5140eb4d",
   "metadata": {
    "tags": []
   },
   "outputs": [
    {
     "name": "stderr",
     "output_type": "stream",
     "text": [
      "[*********************100%***********************]  5 of 5 completed\n"
     ]
    }
   ],
   "source": [
    "tickers = [\"AAPL\", \"MSFT\", \"GOOGL\", \"TSLA\", \"AMZN\"]\n",
    "df = yf.download(tickers, period=\"10y\", group_by = \"ticker\")"
   ]
  },
  {
   "cell_type": "markdown",
   "id": "54f9d6a3-3152-4281-b288-147b9b6054ec",
   "metadata": {},
   "source": [
    "\n",
    "<br>\n",
    "\n",
    "#### The first few lines of the dataframe is displayed below\n",
    "\n",
    "<br>\n"
   ]
  },
  {
   "cell_type": "code",
   "execution_count": 51,
   "id": "be795514-f136-403b-b277-52369b1f2a50",
   "metadata": {
    "tags": []
   },
   "outputs": [
    {
     "data": {
      "text/html": [
       "<div>\n",
       "<style scoped>\n",
       "    .dataframe tbody tr th:only-of-type {\n",
       "        vertical-align: middle;\n",
       "    }\n",
       "\n",
       "    .dataframe tbody tr th {\n",
       "        vertical-align: top;\n",
       "    }\n",
       "\n",
       "    .dataframe thead tr th {\n",
       "        text-align: left;\n",
       "    }\n",
       "\n",
       "    .dataframe thead tr:last-of-type th {\n",
       "        text-align: right;\n",
       "    }\n",
       "</style>\n",
       "<table border=\"1\" class=\"dataframe\">\n",
       "  <thead>\n",
       "    <tr>\n",
       "      <th>Ticker</th>\n",
       "      <th colspan=\"5\" halign=\"left\">TSLA</th>\n",
       "      <th colspan=\"5\" halign=\"left\">AMZN</th>\n",
       "      <th>...</th>\n",
       "      <th colspan=\"5\" halign=\"left\">MSFT</th>\n",
       "      <th colspan=\"5\" halign=\"left\">AAPL</th>\n",
       "    </tr>\n",
       "    <tr>\n",
       "      <th>Price</th>\n",
       "      <th>Open</th>\n",
       "      <th>High</th>\n",
       "      <th>Low</th>\n",
       "      <th>Close</th>\n",
       "      <th>Volume</th>\n",
       "      <th>Open</th>\n",
       "      <th>High</th>\n",
       "      <th>Low</th>\n",
       "      <th>Close</th>\n",
       "      <th>Volume</th>\n",
       "      <th>...</th>\n",
       "      <th>Open</th>\n",
       "      <th>High</th>\n",
       "      <th>Low</th>\n",
       "      <th>Close</th>\n",
       "      <th>Volume</th>\n",
       "      <th>Open</th>\n",
       "      <th>High</th>\n",
       "      <th>Low</th>\n",
       "      <th>Close</th>\n",
       "      <th>Volume</th>\n",
       "    </tr>\n",
       "    <tr>\n",
       "      <th>Date</th>\n",
       "      <th></th>\n",
       "      <th></th>\n",
       "      <th></th>\n",
       "      <th></th>\n",
       "      <th></th>\n",
       "      <th></th>\n",
       "      <th></th>\n",
       "      <th></th>\n",
       "      <th></th>\n",
       "      <th></th>\n",
       "      <th></th>\n",
       "      <th></th>\n",
       "      <th></th>\n",
       "      <th></th>\n",
       "      <th></th>\n",
       "      <th></th>\n",
       "      <th></th>\n",
       "      <th></th>\n",
       "      <th></th>\n",
       "      <th></th>\n",
       "      <th></th>\n",
       "    </tr>\n",
       "  </thead>\n",
       "  <tbody>\n",
       "    <tr>\n",
       "      <th>2015-04-27</th>\n",
       "      <td>14.837333</td>\n",
       "      <td>15.916667</td>\n",
       "      <td>14.800000</td>\n",
       "      <td>15.436667</td>\n",
       "      <td>175089000</td>\n",
       "      <td>22.193001</td>\n",
       "      <td>22.349501</td>\n",
       "      <td>21.870501</td>\n",
       "      <td>21.927999</td>\n",
       "      <td>108618000</td>\n",
       "      <td>...</td>\n",
       "      <td>40.762953</td>\n",
       "      <td>41.539720</td>\n",
       "      <td>40.754324</td>\n",
       "      <td>41.453411</td>\n",
       "      <td>59248200</td>\n",
       "      <td>29.548480</td>\n",
       "      <td>29.731610</td>\n",
       "      <td>29.289419</td>\n",
       "      <td>29.624411</td>\n",
       "      <td>387816800</td>\n",
       "    </tr>\n",
       "    <tr>\n",
       "      <th>2015-04-28</th>\n",
       "      <td>15.650000</td>\n",
       "      <td>15.700000</td>\n",
       "      <td>15.202000</td>\n",
       "      <td>15.365333</td>\n",
       "      <td>91281000</td>\n",
       "      <td>21.925501</td>\n",
       "      <td>21.950001</td>\n",
       "      <td>21.402000</td>\n",
       "      <td>21.465500</td>\n",
       "      <td>82810000</td>\n",
       "      <td>...</td>\n",
       "      <td>41.237638</td>\n",
       "      <td>42.471833</td>\n",
       "      <td>41.168594</td>\n",
       "      <td>42.428680</td>\n",
       "      <td>60730800</td>\n",
       "      <td>30.028641</td>\n",
       "      <td>30.046505</td>\n",
       "      <td>28.936569</td>\n",
       "      <td>29.157661</td>\n",
       "      <td>475696000</td>\n",
       "    </tr>\n",
       "    <tr>\n",
       "      <th>2015-04-29</th>\n",
       "      <td>15.336667</td>\n",
       "      <td>15.664667</td>\n",
       "      <td>15.175333</td>\n",
       "      <td>15.496667</td>\n",
       "      <td>59041500</td>\n",
       "      <td>21.337500</td>\n",
       "      <td>21.712000</td>\n",
       "      <td>21.301500</td>\n",
       "      <td>21.468500</td>\n",
       "      <td>72434000</td>\n",
       "      <td>...</td>\n",
       "      <td>42.048932</td>\n",
       "      <td>42.558145</td>\n",
       "      <td>41.859054</td>\n",
       "      <td>42.342377</td>\n",
       "      <td>47804600</td>\n",
       "      <td>29.068331</td>\n",
       "      <td>29.387688</td>\n",
       "      <td>28.652942</td>\n",
       "      <td>28.728872</td>\n",
       "      <td>253544400</td>\n",
       "    </tr>\n",
       "    <tr>\n",
       "      <th>2015-04-30</th>\n",
       "      <td>15.359333</td>\n",
       "      <td>15.526000</td>\n",
       "      <td>15.011333</td>\n",
       "      <td>15.070000</td>\n",
       "      <td>58678500</td>\n",
       "      <td>21.355499</td>\n",
       "      <td>21.587500</td>\n",
       "      <td>20.962000</td>\n",
       "      <td>21.089001</td>\n",
       "      <td>72958000</td>\n",
       "      <td>...</td>\n",
       "      <td>42.031678</td>\n",
       "      <td>42.756660</td>\n",
       "      <td>41.945369</td>\n",
       "      <td>41.979893</td>\n",
       "      <td>64725500</td>\n",
       "      <td>28.728868</td>\n",
       "      <td>28.728868</td>\n",
       "      <td>27.822159</td>\n",
       "      <td>27.949455</td>\n",
       "      <td>332781600</td>\n",
       "    </tr>\n",
       "    <tr>\n",
       "      <th>2015-05-01</th>\n",
       "      <td>15.329333</td>\n",
       "      <td>15.451333</td>\n",
       "      <td>14.694000</td>\n",
       "      <td>15.068667</td>\n",
       "      <td>79225500</td>\n",
       "      <td>21.191000</td>\n",
       "      <td>21.282000</td>\n",
       "      <td>20.799999</td>\n",
       "      <td>21.143499</td>\n",
       "      <td>71316000</td>\n",
       "      <td>...</td>\n",
       "      <td>41.928118</td>\n",
       "      <td>42.187039</td>\n",
       "      <td>41.772764</td>\n",
       "      <td>41.997162</td>\n",
       "      <td>38937300</td>\n",
       "      <td>28.161618</td>\n",
       "      <td>29.061630</td>\n",
       "      <td>27.982957</td>\n",
       "      <td>28.798101</td>\n",
       "      <td>234050400</td>\n",
       "    </tr>\n",
       "  </tbody>\n",
       "</table>\n",
       "<p>5 rows × 25 columns</p>\n",
       "</div>"
      ],
      "text/plain": [
       "Ticker           TSLA                                                   AMZN  \\\n",
       "Price            Open       High        Low      Close     Volume       Open   \n",
       "Date                                                                           \n",
       "2015-04-27  14.837333  15.916667  14.800000  15.436667  175089000  22.193001   \n",
       "2015-04-28  15.650000  15.700000  15.202000  15.365333   91281000  21.925501   \n",
       "2015-04-29  15.336667  15.664667  15.175333  15.496667   59041500  21.337500   \n",
       "2015-04-30  15.359333  15.526000  15.011333  15.070000   58678500  21.355499   \n",
       "2015-05-01  15.329333  15.451333  14.694000  15.068667   79225500  21.191000   \n",
       "\n",
       "Ticker                                                  ...       MSFT  \\\n",
       "Price            High        Low      Close     Volume  ...       Open   \n",
       "Date                                                    ...              \n",
       "2015-04-27  22.349501  21.870501  21.927999  108618000  ...  40.762953   \n",
       "2015-04-28  21.950001  21.402000  21.465500   82810000  ...  41.237638   \n",
       "2015-04-29  21.712000  21.301500  21.468500   72434000  ...  42.048932   \n",
       "2015-04-30  21.587500  20.962000  21.089001   72958000  ...  42.031678   \n",
       "2015-05-01  21.282000  20.799999  21.143499   71316000  ...  41.928118   \n",
       "\n",
       "Ticker                                                      AAPL             \\\n",
       "Price            High        Low      Close    Volume       Open       High   \n",
       "Date                                                                          \n",
       "2015-04-27  41.539720  40.754324  41.453411  59248200  29.548480  29.731610   \n",
       "2015-04-28  42.471833  41.168594  42.428680  60730800  30.028641  30.046505   \n",
       "2015-04-29  42.558145  41.859054  42.342377  47804600  29.068331  29.387688   \n",
       "2015-04-30  42.756660  41.945369  41.979893  64725500  28.728868  28.728868   \n",
       "2015-05-01  42.187039  41.772764  41.997162  38937300  28.161618  29.061630   \n",
       "\n",
       "Ticker                                       \n",
       "Price             Low      Close     Volume  \n",
       "Date                                         \n",
       "2015-04-27  29.289419  29.624411  387816800  \n",
       "2015-04-28  28.936569  29.157661  475696000  \n",
       "2015-04-29  28.652942  28.728872  253544400  \n",
       "2015-04-30  27.822159  27.949455  332781600  \n",
       "2015-05-01  27.982957  28.798101  234050400  \n",
       "\n",
       "[5 rows x 25 columns]"
      ]
     },
     "execution_count": 51,
     "metadata": {},
     "output_type": "execute_result"
    }
   ],
   "source": [
    "df.head()"
   ]
  },
  {
   "cell_type": "code",
   "execution_count": 52,
   "id": "84558e1f-7e3e-4322-b84b-5b8703cc6239",
   "metadata": {},
   "outputs": [
    {
     "data": {
      "text/plain": [
       "(2516, 25)"
      ]
     },
     "execution_count": 52,
     "metadata": {},
     "output_type": "execute_result"
    }
   ],
   "source": [
    "df.shape"
   ]
  },
  {
   "cell_type": "markdown",
   "id": "7e7dc7b0-7304-48fe-8bee-1ff71e720ddb",
   "metadata": {},
   "source": [
    "#### We consider only the 'Close' prices of the stocks"
   ]
  },
  {
   "cell_type": "code",
   "execution_count": 124,
   "id": "da961c04-223d-41dd-a282-28edd307dbf3",
   "metadata": {
    "tags": []
   },
   "outputs": [
    {
     "data": {
      "text/html": [
       "<div>\n",
       "<style scoped>\n",
       "    .dataframe tbody tr th:only-of-type {\n",
       "        vertical-align: middle;\n",
       "    }\n",
       "\n",
       "    .dataframe tbody tr th {\n",
       "        vertical-align: top;\n",
       "    }\n",
       "\n",
       "    .dataframe thead th {\n",
       "        text-align: right;\n",
       "    }\n",
       "</style>\n",
       "<table border=\"1\" class=\"dataframe\">\n",
       "  <thead>\n",
       "    <tr style=\"text-align: right;\">\n",
       "      <th>Ticker</th>\n",
       "      <th>TSLA</th>\n",
       "      <th>AMZN</th>\n",
       "      <th>GOOGL</th>\n",
       "      <th>MSFT</th>\n",
       "      <th>AAPL</th>\n",
       "    </tr>\n",
       "    <tr>\n",
       "      <th>Date</th>\n",
       "      <th></th>\n",
       "      <th></th>\n",
       "      <th></th>\n",
       "      <th></th>\n",
       "      <th></th>\n",
       "    </tr>\n",
       "  </thead>\n",
       "  <tbody>\n",
       "    <tr>\n",
       "      <th>2015-04-27</th>\n",
       "      <td>15.436667</td>\n",
       "      <td>21.927999</td>\n",
       "      <td>28.171316</td>\n",
       "      <td>41.453411</td>\n",
       "      <td>29.624411</td>\n",
       "    </tr>\n",
       "    <tr>\n",
       "      <th>2015-04-28</th>\n",
       "      <td>15.365333</td>\n",
       "      <td>21.465500</td>\n",
       "      <td>28.084230</td>\n",
       "      <td>42.428680</td>\n",
       "      <td>29.157661</td>\n",
       "    </tr>\n",
       "    <tr>\n",
       "      <th>2015-04-29</th>\n",
       "      <td>15.496667</td>\n",
       "      <td>21.468500</td>\n",
       "      <td>27.935938</td>\n",
       "      <td>42.342377</td>\n",
       "      <td>28.728872</td>\n",
       "    </tr>\n",
       "    <tr>\n",
       "      <th>2015-04-30</th>\n",
       "      <td>15.070000</td>\n",
       "      <td>21.089001</td>\n",
       "      <td>27.307943</td>\n",
       "      <td>41.979893</td>\n",
       "      <td>27.949455</td>\n",
       "    </tr>\n",
       "    <tr>\n",
       "      <th>2015-05-01</th>\n",
       "      <td>15.068667</td>\n",
       "      <td>21.143499</td>\n",
       "      <td>27.426874</td>\n",
       "      <td>41.997162</td>\n",
       "      <td>28.798101</td>\n",
       "    </tr>\n",
       "  </tbody>\n",
       "</table>\n",
       "</div>"
      ],
      "text/plain": [
       "Ticker           TSLA       AMZN      GOOGL       MSFT       AAPL\n",
       "Date                                                             \n",
       "2015-04-27  15.436667  21.927999  28.171316  41.453411  29.624411\n",
       "2015-04-28  15.365333  21.465500  28.084230  42.428680  29.157661\n",
       "2015-04-29  15.496667  21.468500  27.935938  42.342377  28.728872\n",
       "2015-04-30  15.070000  21.089001  27.307943  41.979893  27.949455\n",
       "2015-05-01  15.068667  21.143499  27.426874  41.997162  28.798101"
      ]
     },
     "execution_count": 124,
     "metadata": {},
     "output_type": "execute_result"
    }
   ],
   "source": [
    "\n",
    "close_prices = df.xs(\"Close\", axis=1, level=1)\n",
    "close_prices.head()"
   ]
  },
  {
   "cell_type": "markdown",
   "id": "1e5e0657-3fe3-46b7-92ac-0838b57ee5db",
   "metadata": {
    "tags": []
   },
   "source": [
    "#### Date (index) is converted to datetime format in pandas"
   ]
  },
  {
   "cell_type": "code",
   "execution_count": 125,
   "id": "3d40f3e1-edfb-4df5-870d-2bed1cf51223",
   "metadata": {
    "tags": []
   },
   "outputs": [
    {
     "data": {
      "text/plain": [
       "DatetimeIndex(['2015-04-27', '2015-04-28', '2015-04-29', '2015-04-30',\n",
       "               '2015-05-01', '2015-05-04', '2015-05-05', '2015-05-06',\n",
       "               '2015-05-07', '2015-05-08',\n",
       "               ...\n",
       "               '2025-04-11', '2025-04-14', '2025-04-15', '2025-04-16',\n",
       "               '2025-04-17', '2025-04-21', '2025-04-22', '2025-04-23',\n",
       "               '2025-04-24', '2025-04-25'],\n",
       "              dtype='datetime64[ns]', name='Date', length=2516, freq=None)"
      ]
     },
     "execution_count": 125,
     "metadata": {},
     "output_type": "execute_result"
    }
   ],
   "source": [
    "close_prices.index = pd.to_datetime(close_prices.index)\n",
    "close_prices.index"
   ]
  },
  {
   "cell_type": "markdown",
   "id": "860e076f-f834-491f-934e-c94b3f4d2bd7",
   "metadata": {},
   "source": [
    "#### A plot of the daily cosing prices is displayed beow foe each stock"
   ]
  },
  {
   "cell_type": "code",
   "execution_count": 126,
   "id": "5e792823-a55f-47b2-9c8d-10551a13db58",
   "metadata": {},
   "outputs": [
    {
     "data": {
      "image/png": "[encoded data removed]",
      "text/plain": [
       "<Figure size 800x1000 with 5 Axes>"
      ]
     },
     "metadata": {},
     "output_type": "display_data"
    }
   ],
   "source": [
    "close_prices[tickers].plot(subplots=True, figsize=(8, 10), layout=(5, 1), sharex=True)\n",
    "plt.tight_layout()\n",
    "plt.show();"
   ]
  },
  {
   "cell_type": "markdown",
   "id": "2ccd1442-6b11-4413-b351-83caf090b7b7",
   "metadata": {
    "tags": []
   },
   "source": [
    "#### Log returns for each stock is computed\n",
    "\n",
    "The **log return**  is defined as:\n",
    "$$\n",
    "r_t = \\ln\\left( \\frac{P_t}{P_{t-1}} \\right)\n",
    "$$\n",
    "\n",
    "where:\n",
    "- $( r_t )$= log return at time $(t)$,\n",
    "- $( P_t)$ = price at time $(t)$,\n",
    "- $( P_{t-1})$ = price at time $( t-1)$."
   ]
  },
  {
   "cell_type": "code",
   "execution_count": 127,
   "id": "b7cd7737-ece2-4ffd-9ed8-d9024de67d44",
   "metadata": {
    "tags": []
   },
   "outputs": [
    {
     "data": {
      "text/html": [
       "<div>\n",
       "<style scoped>\n",
       "    .dataframe tbody tr th:only-of-type {\n",
       "        vertical-align: middle;\n",
       "    }\n",
       "\n",
       "    .dataframe tbody tr th {\n",
       "        vertical-align: top;\n",
       "    }\n",
       "\n",
       "    .dataframe thead th {\n",
       "        text-align: right;\n",
       "    }\n",
       "</style>\n",
       "<table border=\"1\" class=\"dataframe\">\n",
       "  <thead>\n",
       "    <tr style=\"text-align: right;\">\n",
       "      <th>Ticker</th>\n",
       "      <th>TSLA</th>\n",
       "      <th>AMZN</th>\n",
       "      <th>GOOGL</th>\n",
       "      <th>MSFT</th>\n",
       "      <th>AAPL</th>\n",
       "    </tr>\n",
       "    <tr>\n",
       "      <th>Date</th>\n",
       "      <th></th>\n",
       "      <th></th>\n",
       "      <th></th>\n",
       "      <th></th>\n",
       "      <th></th>\n",
       "    </tr>\n",
       "  </thead>\n",
       "  <tbody>\n",
       "    <tr>\n",
       "      <th>2015-04-28</th>\n",
       "      <td>-0.463184</td>\n",
       "      <td>-2.131735</td>\n",
       "      <td>-0.309608</td>\n",
       "      <td>2.325439</td>\n",
       "      <td>-1.588100</td>\n",
       "    </tr>\n",
       "    <tr>\n",
       "      <th>2015-04-29</th>\n",
       "      <td>0.851112</td>\n",
       "      <td>0.013976</td>\n",
       "      <td>-0.529427</td>\n",
       "      <td>-0.203616</td>\n",
       "      <td>-1.481509</td>\n",
       "    </tr>\n",
       "    <tr>\n",
       "      <th>2015-04-30</th>\n",
       "      <td>-2.791897</td>\n",
       "      <td>-1.783514</td>\n",
       "      <td>-2.273633</td>\n",
       "      <td>-0.859764</td>\n",
       "      <td>-2.750491</td>\n",
       "    </tr>\n",
       "    <tr>\n",
       "      <th>2015-05-01</th>\n",
       "      <td>-0.008841</td>\n",
       "      <td>0.258089</td>\n",
       "      <td>0.434572</td>\n",
       "      <td>0.041128</td>\n",
       "      <td>2.991175</td>\n",
       "    </tr>\n",
       "    <tr>\n",
       "      <th>2015-05-04</th>\n",
       "      <td>1.962647</td>\n",
       "      <td>0.040198</td>\n",
       "      <td>0.304351</td>\n",
       "      <td>-0.866889</td>\n",
       "      <td>-0.194062</td>\n",
       "    </tr>\n",
       "  </tbody>\n",
       "</table>\n",
       "</div>"
      ],
      "text/plain": [
       "Ticker          TSLA      AMZN     GOOGL      MSFT      AAPL\n",
       "Date                                                        \n",
       "2015-04-28 -0.463184 -2.131735 -0.309608  2.325439 -1.588100\n",
       "2015-04-29  0.851112  0.013976 -0.529427 -0.203616 -1.481509\n",
       "2015-04-30 -2.791897 -1.783514 -2.273633 -0.859764 -2.750491\n",
       "2015-05-01 -0.008841  0.258089  0.434572  0.041128  2.991175\n",
       "2015-05-04  1.962647  0.040198  0.304351 -0.866889 -0.194062"
      ]
     },
     "execution_count": 127,
     "metadata": {},
     "output_type": "execute_result"
    }
   ],
   "source": [
    "\n",
    "from stock_functions import log_returns\n",
    "\n",
    "df_return = log_returns(close_prices)\n",
    "df_return.dropna(inplace = True)\n",
    "df_return.head()"
   ]
  },
  {
   "cell_type": "markdown",
   "id": "1e51df1d-5906-4889-b4ac-c52c7ae17583",
   "metadata": {
    "tags": []
   },
   "source": [
    "#### Below provides a summary statistics for the stock returns"
   ]
  },
  {
   "cell_type": "code",
   "execution_count": 128,
   "id": "193b3c15-e4b5-4e6d-99a9-6e44aabbbd1e",
   "metadata": {
    "tags": []
   },
   "outputs": [
    {
     "data": {
      "text/html": [
       "<div>\n",
       "<style scoped>\n",
       "    .dataframe tbody tr th:only-of-type {\n",
       "        vertical-align: middle;\n",
       "    }\n",
       "\n",
       "    .dataframe tbody tr th {\n",
       "        vertical-align: top;\n",
       "    }\n",
       "\n",
       "    .dataframe thead th {\n",
       "        text-align: right;\n",
       "    }\n",
       "</style>\n",
       "<table border=\"1\" class=\"dataframe\">\n",
       "  <thead>\n",
       "    <tr style=\"text-align: right;\">\n",
       "      <th></th>\n",
       "      <th>count</th>\n",
       "      <th>mean</th>\n",
       "      <th>std</th>\n",
       "      <th>min</th>\n",
       "      <th>25%</th>\n",
       "      <th>50%</th>\n",
       "      <th>75%</th>\n",
       "      <th>max</th>\n",
       "    </tr>\n",
       "    <tr>\n",
       "      <th>Ticker</th>\n",
       "      <th></th>\n",
       "      <th></th>\n",
       "      <th></th>\n",
       "      <th></th>\n",
       "      <th></th>\n",
       "      <th></th>\n",
       "      <th></th>\n",
       "      <th></th>\n",
       "    </tr>\n",
       "  </thead>\n",
       "  <tbody>\n",
       "    <tr>\n",
       "      <th>TSLA</th>\n",
       "      <td>2515.0</td>\n",
       "      <td>0.115927</td>\n",
       "      <td>3.687445</td>\n",
       "      <td>-23.651789</td>\n",
       "      <td>-1.713363</td>\n",
       "      <td>0.125987</td>\n",
       "      <td>1.932109</td>\n",
       "      <td>20.449058</td>\n",
       "    </tr>\n",
       "    <tr>\n",
       "      <th>AMZN</th>\n",
       "      <td>2515.0</td>\n",
       "      <td>0.085643</td>\n",
       "      <td>2.063815</td>\n",
       "      <td>-15.139791</td>\n",
       "      <td>-0.889270</td>\n",
       "      <td>0.110893</td>\n",
       "      <td>1.145439</td>\n",
       "      <td>12.694892</td>\n",
       "    </tr>\n",
       "    <tr>\n",
       "      <th>GOOGL</th>\n",
       "      <td>2515.0</td>\n",
       "      <td>0.069545</td>\n",
       "      <td>1.822887</td>\n",
       "      <td>-12.368464</td>\n",
       "      <td>-0.772098</td>\n",
       "      <td>0.120190</td>\n",
       "      <td>0.973603</td>\n",
       "      <td>15.064528</td>\n",
       "    </tr>\n",
       "    <tr>\n",
       "      <th>MSFT</th>\n",
       "      <td>2515.0</td>\n",
       "      <td>0.089316</td>\n",
       "      <td>1.708821</td>\n",
       "      <td>-15.945319</td>\n",
       "      <td>-0.694621</td>\n",
       "      <td>0.095225</td>\n",
       "      <td>0.976479</td>\n",
       "      <td>13.292888</td>\n",
       "    </tr>\n",
       "    <tr>\n",
       "      <th>AAPL</th>\n",
       "      <td>2515.0</td>\n",
       "      <td>0.077737</td>\n",
       "      <td>1.845872</td>\n",
       "      <td>-13.770822</td>\n",
       "      <td>-0.748125</td>\n",
       "      <td>0.089665</td>\n",
       "      <td>1.010655</td>\n",
       "      <td>14.261745</td>\n",
       "    </tr>\n",
       "  </tbody>\n",
       "</table>\n",
       "</div>"
      ],
      "text/plain": [
       "         count      mean       std        min       25%       50%       75%  \\\n",
       "Ticker                                                                        \n",
       "TSLA    2515.0  0.115927  3.687445 -23.651789 -1.713363  0.125987  1.932109   \n",
       "AMZN    2515.0  0.085643  2.063815 -15.139791 -0.889270  0.110893  1.145439   \n",
       "GOOGL   2515.0  0.069545  1.822887 -12.368464 -0.772098  0.120190  0.973603   \n",
       "MSFT    2515.0  0.089316  1.708821 -15.945319 -0.694621  0.095225  0.976479   \n",
       "AAPL    2515.0  0.077737  1.845872 -13.770822 -0.748125  0.089665  1.010655   \n",
       "\n",
       "              max  \n",
       "Ticker             \n",
       "TSLA    20.449058  \n",
       "AMZN    12.694892  \n",
       "GOOGL   15.064528  \n",
       "MSFT    13.292888  \n",
       "AAPL    14.261745  "
      ]
     },
     "execution_count": 128,
     "metadata": {},
     "output_type": "execute_result"
    }
   ],
   "source": [
    "df_return.describe().T"
   ]
  },
  {
   "cell_type": "markdown",
   "id": "a06833db-c29c-4700-9c4a-e3780c342b9e",
   "metadata": {
    "tags": []
   },
   "source": [
    "\n",
    "#### We test the hypothesis that the stock returns is zero. \n",
    "\n",
    "The idea is to use a statistical test to ascertain whether the average stocks returns computed above are indeed different from zero or not\n",
    "\n",
    " This is given by:\n",
    "<br>\n",
    "$H_{0}: \\beta = 0$\n",
    "\n",
    "The formula for the t-test is as follows:\n",
    "\n",
    "**T-Test**\n",
    "\n",
    "$$\n",
    "t_{\\hat{\\beta}}  = \\frac{\\hat{\\beta} - \\theta}{se(\\hat{\\beta})}\n",
    "$$\n",
    "\n",
    "Where $\\hat{\\beta}$ is the parameter to be tested, $\\theta$ is the hypothesized value,  **Se** is the standard error of the parameter.\n",
    "The test- statistic $t_{\\hat{\\beta}}$ has a t-distribution with 1 degree of freedom. <br>\n",
    "The test measures how many standard deviations the parameter value ($\\hat{\\beta}$) is away from the hypothetized value.\n",
    "We consider rejection of the null hypothesis at 5\\% significance level. This implies that we are willing to mistakingly reject the null hypothesis when it is indeed true 5\\% of the time.\n",
    "<br>The test rejects the null hypothesis for significantly higher values of the test-statistic at 5\\% level (95 percentile in the t-distribution will constitute our critical value).\n",
    "\n",
    "#### Below is a function that computes the test-statistics and compares to the critical vaues based on the 5% significance level\n",
    "<br>"
   ]
  },
  {
   "cell_type": "code",
   "execution_count": 129,
   "id": "c02213dd-fd0f-416e-8746-f3866a558ece",
   "metadata": {
    "tags": []
   },
   "outputs": [],
   "source": [
    "def hypo_test(x):\n",
    "    t_stat, p_value = stats.ttest_1samp(x, popmean=0)\n",
    "    print(\"t-statistic:\", t_stat.round(3))\n",
    "    print(\"p-value:\", p_value.round(3))\n",
    "    \n",
    "    if p_value < 0.05:\n",
    "        print(\"Reject null hypothesis: The mean return for the stocks is significantly different from zero.\")\n",
    "    else:\n",
    "        print(\"Fail to reject null hypothesis: The mean return for the stocks is not significantly different from zero.\")\n",
    "        "
   ]
  },
  {
   "cell_type": "markdown",
   "id": "70c480e9-1aef-4f5b-b1f0-2a52500840c4",
   "metadata": {},
   "source": [
    "<br>\n",
    "\n",
    "### Tesla Stocks\n",
    "The hypothesis below suggests that  even though the average returns are positive, statsitically this is  likely due to random chance (at a 5% significance level)"
   ]
  },
  {
   "cell_type": "code",
   "execution_count": 130,
   "id": "a7bf168f-85fd-447d-8e63-f3b55e36ff16",
   "metadata": {
    "tags": []
   },
   "outputs": [
    {
     "name": "stdout",
     "output_type": "stream",
     "text": [
      "t-statistic: 1.577\n",
      "p-value: 0.115\n",
      "Fail to reject null hypothesis: The mean return for the stocks is not significantly different from zero.\n"
     ]
    }
   ],
   "source": [
    "hypo_test(df_return[\"TSLA\"])"
   ]
  },
  {
   "cell_type": "markdown",
   "id": "4633d0a9-d3ae-48dc-88fd-f39a6098bae6",
   "metadata": {
    "tags": []
   },
   "source": [
    "<br>\n",
    "\n",
    "### Amazon Stocks\n",
    "The hypothesis below suggests that  the log retruns for Amazon stocks are statistically different from zero (at a 5% significance level). "
   ]
  },
  {
   "cell_type": "code",
   "execution_count": 131,
   "id": "4089ee88-e604-4d8a-80a4-a79c773697ac",
   "metadata": {
    "tags": []
   },
   "outputs": [
    {
     "name": "stdout",
     "output_type": "stream",
     "text": [
      "t-statistic: 2.081\n",
      "p-value: 0.038\n",
      "Reject null hypothesis: The mean return for the stocks is significantly different from zero.\n"
     ]
    }
   ],
   "source": [
    "hypo_test(df_return[\"AMZN\"])"
   ]
  },
  {
   "cell_type": "markdown",
   "id": "24b94cf3-af4b-4d25-84ab-3554b00fae51",
   "metadata": {
    "tags": []
   },
   "source": [
    "<br>\n",
    "\n",
    "### Apple stocks\n",
    "The hypothesis below suggests that  the log retruns for Apple stocks are statistically different from zero (at a 5% significance level)."
   ]
  },
  {
   "cell_type": "code",
   "execution_count": 132,
   "id": "703db9ba-8181-472f-bfd2-5181c7112373",
   "metadata": {
    "tags": []
   },
   "outputs": [
    {
     "name": "stdout",
     "output_type": "stream",
     "text": [
      "t-statistic: 2.112\n",
      "p-value: 0.035\n",
      "Reject null hypothesis: The mean return for the stocks is significantly different from zero.\n"
     ]
    }
   ],
   "source": [
    "hypo_test(df_return[\"AAPL\"])"
   ]
  },
  {
   "cell_type": "markdown",
   "id": "5494c18b-405c-4b4b-82bc-e3e3c343da46",
   "metadata": {},
   "source": [
    "<br>\n",
    "\n",
    "### Microsoft stocks\n",
    "The hypothesis below suggests that  the log retruns for Microsoft stocks are statistically different from zero (at a 5% significance level)."
   ]
  },
  {
   "cell_type": "code",
   "execution_count": 133,
   "id": "aba15930-b8ce-4628-8300-3f6eac51cb72",
   "metadata": {
    "tags": []
   },
   "outputs": [
    {
     "name": "stdout",
     "output_type": "stream",
     "text": [
      "t-statistic: 2.621\n",
      "p-value: 0.009\n",
      "Reject null hypothesis: The mean return for the stocks is significantly different from zero.\n"
     ]
    }
   ],
   "source": [
    "hypo_test(df_return[\"MSFT\"])"
   ]
  },
  {
   "cell_type": "markdown",
   "id": "30a375a3-cef3-480f-8208-d78fa50917dc",
   "metadata": {
    "tags": []
   },
   "source": [
    "<br>\n",
    "\n",
    "### Google Stocks\n",
    "The hypothesis below suggests that  even though the average returns are positive, statsitically this is  likely due to random chance (at a 5% significance level)"
   ]
  },
  {
   "cell_type": "code",
   "execution_count": 134,
   "id": "3f2528c2-f789-4a7a-bf56-b8d60962b362",
   "metadata": {
    "tags": []
   },
   "outputs": [
    {
     "name": "stdout",
     "output_type": "stream",
     "text": [
      "t-statistic: 1.913\n",
      "p-value: 0.056\n",
      "Fail to reject null hypothesis: The mean return for the stocks is not significantly different from zero.\n"
     ]
    }
   ],
   "source": [
    "hypo_test(df_return[\"GOOGL\"])"
   ]
  },
  {
   "cell_type": "code",
   "execution_count": null,
   "id": "559a220e-4c44-4b75-9950-cc83d93dd607",
   "metadata": {},
   "outputs": [],
   "source": []
  },
  {
   "cell_type": "code",
   "execution_count": 136,
   "id": "eebfe28b-c0b9-42e6-8555-55df83a35dd6",
   "metadata": {
    "tags": []
   },
   "outputs": [
    {
     "name": "stderr",
     "output_type": "stream",
     "text": [
      "[NbConvertApp] Converting notebook Stocks.ipynb to html\n",
      "[NbConvertApp] Writing 748889 bytes to Stocks.html\n"
     ]
    }
   ],
   "source": [
    "!jupyter nbconvert --to html Stocks.ipynb"
   ]
  },
  {
   "cell_type": "code",
   "execution_count": null,
   "id": "c20220fc-627c-4adb-85f6-f1882ea4ab24",
   "metadata": {},
   "outputs": [],
   "source": []
  }
 ],
 "metadata": {
  "kernelspec": {
   "display_name": "Python 3 (ipykernel)",
   "language": "python",
   "name": "python3"
  },
  "language_info": {
   "codemirror_mode": {
    "name": "ipython",
    "version": 3
   },
   "file_extension": ".py",
   "mimetype": "text/x-python",
   "name": "python",
   "nbconvert_exporter": "python",
   "pygments_lexer": "ipython3",
   "version": "3.11.5"
  }
 },
 "nbformat": 4,
 "nbformat_minor": 5
}
